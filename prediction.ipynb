{
 "cells": [
  {
   "cell_type": "code",
   "execution_count": null,
   "metadata": {},
   "outputs": [],
   "source": [
    "import numpy as np\n",
    "import pandas as pd\n",
    "\n",
    "from sklearn.cluster import KMeans\n",
    "from sklearn.mixture import GaussianMixture\n",
    "from sklearn.model_selection import train_test_split\n",
    "\n",
    "from models import model_cat1, model_cat2\n",
    "from models import model_xgb1, model_xgb2\n",
    "from models import model_lgbm1, model_lgbm2, model_lgbm3\n",
    "from models import model_rf1, model_rf2\n",
    "from models import model_ridge\n",
    "from models import model_knr1, model_knr2\n",
    "from models import model_lr"
   ]
  },
  {
   "cell_type": "markdown",
   "metadata": {},
   "source": [
    "### データの前処理"
   ]
  },
  {
   "cell_type": "code",
   "execution_count": null,
   "metadata": {},
   "outputs": [],
   "source": [
    "train = pd.read_csv(\"train.csv\")\n",
    "test = pd.read_csv(\"test.csv\")\n",
    "sample_submission = pd.read_csv(\"sample_submission.csv\")\n",
    "\n",
    "# trainから id = 170514を削除する\n",
    "train = train[train[\"id\"] != 170514]\n",
    "train = train.reset_index(drop = True)\n",
    "\n",
    "# 説明変数と目的変数の分離\n",
    "# 列の抜き出し\n",
    "features = train.columns\n",
    "features = features.drop([\"id\", \"target\"])\n",
    "\n",
    "# 分離\n",
    "train_target = train[\"target\"]\n",
    "train_id = train[\"id\"]\n",
    "test_id = test[\"id\"]\n",
    "train = train[features]\n",
    "test = test[features]"
   ]
  },
  {
   "cell_type": "code",
   "execution_count": null,
   "metadata": {},
   "outputs": [],
   "source": [
    "# KMeans法によるラベリング(特徴量エンジニアリング)\n",
    "km = KMeans(n_clusters=2, random_state=0)\n",
    "km.fit(train)\n",
    "km_train = pd.DataFrame(km.predict(train), columns = [\"km_cluster\"])\n",
    "km_test = pd.DataFrame(km.predict(test), columns = [\"km_cluster\"])\n",
    "\n",
    "# 結合\n",
    "train = pd.concat([train, km_train], axis = 1)\n",
    "test = pd.concat([test, km_test], axis = 1)"
   ]
  },
  {
   "cell_type": "code",
   "execution_count": null,
   "metadata": {},
   "outputs": [],
   "source": [
    "## 決定木系モデル用のデータを作成\n",
    "train_dt = train.copy()\n",
    "test_dt = test.copy()\n",
    "\n",
    "# 混合ガウス分布による特徴量のラベリング(特徴量エンジニアリング)\n",
    "def get_gmm_class_feature(feat, train_df, test_df, n):\n",
    "    gmm = GaussianMixture(n_components=n, random_state=1234)\n",
    "    gmm.fit(train_df[feat].values.reshape(-1, 1))\n",
    "    train_df[f'{feat}_class'] = gmm.predict(train_df[feat].values.reshape(-1, 1))\n",
    "    test_df[f'{feat}_class'] = gmm.predict(test_df[feat].values.reshape(-1, 1))\n",
    "\n",
    "get_gmm_class_feature('cont1', train_dt, test_dt, 4)\n",
    "get_gmm_class_feature('cont2', train_dt, test_dt, 10)\n",
    "get_gmm_class_feature('cont3', train_dt, test_dt, 6)\n",
    "get_gmm_class_feature('cont4', train_dt, test_dt, 4)\n",
    "get_gmm_class_feature('cont5', train_dt, test_dt, 3)\n",
    "get_gmm_class_feature('cont6', train_dt, test_dt, 2)\n",
    "get_gmm_class_feature('cont7', train_dt, test_dt, 3)\n",
    "get_gmm_class_feature('cont8', train_dt, test_dt, 4)\n",
    "get_gmm_class_feature('cont9', train_dt, test_dt, 4)\n",
    "get_gmm_class_feature('cont10', train_dt, test_dt, 8)\n",
    "get_gmm_class_feature('cont11', train_dt, test_dt, 5)\n",
    "get_gmm_class_feature('cont12', train_dt, test_dt, 4)\n",
    "get_gmm_class_feature('cont13', train_dt, test_dt, 6)\n",
    "get_gmm_class_feature('cont14', train_dt, test_dt, 6)   "
   ]
  },
  {
   "cell_type": "code",
   "execution_count": null,
   "metadata": {},
   "outputs": [],
   "source": [
    "# 線形回帰、K近傍法用にデータを加工する\n",
    "train_l = train_dt.copy()\n",
    "test_l = test_dt.copy()\n",
    "\n",
    "# ダミー変数化\n",
    "for i in range(1,15):\n",
    "    temp = pd.get_dummies(train_l[\"cont{}_class\".format(str(i))], drop_first = True)\n",
    "    train_l = pd.concat([train_l, temp], axis = 1)\n",
    "    del train_l[\"cont{}_class\".format(str(i))]\n",
    "\n",
    "for i in range(1,15):\n",
    "    temp = pd.get_dummies(test_l[\"cont{}_class\".format(str(i))], drop_first = True)\n",
    "    test_l = pd.concat([test_l, temp], axis = 1)\n",
    "    del test_l[\"cont{}_class\".format(str(i))]"
   ]
  },
  {
   "cell_type": "code",
   "execution_count": null,
   "metadata": {},
   "outputs": [],
   "source": [
    "# train_test_split\n",
    "X_train_dt, X_val_dt, y_train_dt, y_val_dt = train_test_split(train_dt, train_target, test_size = 0.25, random_state = 1234)\n",
    "X_train_l, X_val_l, y_train_l, y_val_l = train_test_split(train_l, train_target, test_size = 0.25, random_state = 1234)"
   ]
  },
  {
   "cell_type": "markdown",
   "metadata": {},
   "source": [
    "### スタッキング1層目"
   ]
  },
  {
   "cell_type": "code",
   "execution_count": null,
   "metadata": {},
   "outputs": [],
   "source": [
    "#スタッキング1層目用の関数の定義\n",
    "def predict_cv(model, train, train_target, test):\n",
    "    y_preds = []\n",
    "    preds_test = []\n",
    "    val_idxes = []\n",
    "    \n",
    "    kf = KFold(n_splits = 4, shuffle = True, random_state = 1234)\n",
    "    \n",
    "    # クロスバリデーションで学習・予測をを行い、予測値とインデックスを保存する\n",
    "    for i, (train_idx, val_idx) in enumerate(kf.split(train)):\n",
    "        X_train, X_val = train.iloc[train_idx], train.iloc[val_idx]\n",
    "        y_train, y_val = train_target.iloc[train_idx], train_target.iloc[val_idx]\n",
    "        model.fit(X_train, y_train, X_val, y_val)\n",
    "        y_pred = model.predict(X_val)\n",
    "        y_preds.append(y_pred)\n",
    "        pred_test = model.predict(test)\n",
    "        preds_test.append(pred_test)\n",
    "        val_idxes.append(val_idx)\n",
    "        \n",
    "    # バリデーションデータに対する予測値を連結し、その後元の順序に並べ直す\n",
    "    val_idxes = np.concatenate(val_idxes)\n",
    "    preds = np.concatenate(y_preds, axis = 0)\n",
    "    order = np.argsort(val_idxes)\n",
    "    pred_train = preds[order]\n",
    "    \n",
    "    # テストデータに対する予測値の平均をとる\n",
    "    preds_test = np.mean(preds_test, axis = 0)\n",
    "    return pred_train, preds_test"
   ]
  },
  {
   "cell_type": "code",
   "execution_count": null,
   "metadata": {},
   "outputs": [],
   "source": [
    "# catboost1 (optunaにより最適化されたモデル)\n",
    "m_cat1 = model_cat1()\n",
    "pred_train_cat1, pred_test_cat1 = predict_cv(m_cat1, train_dt, train_target, test_dt)\n",
    "\n",
    "# catboost2\n",
    "m_cat2 = model_cat2()\n",
    "pred_train_cat2, pred_test_cat2 = predict_cv(m_cat2, train_dt, train_target, test_dt)\n",
    "\n",
    "# xgboost1 (optunaにより最適化されたモデル)\n",
    "m_xgb1 = model_xgb1()\n",
    "pred_train_xgb1, pred_test_xgb1 = predict_cv(m_xgb1, train_dt, train_target, test_dt)\n",
    "\n",
    "# xgboost2\n",
    "m_xgb2 = model_xgb2()\n",
    "pred_train_xgb2, pred_test_xgb2 = predict_cv(m_xgb2, train_dt, train_target, test_dt)\n",
    "\n",
    "# lightgbm1 (optunaにより最適化されたモデル)\n",
    "m_lgbm1 = model_lgbm1()\n",
    "pred_train_lgbm1, pred_test_lgbm1 = predict_cv(m_lgbm1, train_dt, train_target, test_dt)\n",
    "\n",
    "# lightgbm2\n",
    "m_lgbm2 = model_lgbm2()\n",
    "pred_train_lgbm2, pred_test_lgbm2 = predict_cv(m_lgbm2, train_dt, train_target, test_dt)\n",
    "\n",
    "# lightgbm3\n",
    "m_lgbm3 = model_lgbm3()\n",
    "pred_train_lgbm3, pred_test_lgbm3 = predict_cv(m_lgbm3, train_dt, train_target, test_dt)\n",
    "\n",
    "# RandomForest1 (optunaにより最適化されたモデル)\n",
    "m_rf1 = model_rf1()\n",
    "pred_train_rf1, pred_test_rf1 = predict_cv(m_rf1, train_dt, train_target, test_dt)\n",
    "\n",
    "# RandomForest2\n",
    "m_rf2 = model_rf2()\n",
    "pred_train_rf2, pred_test_rf2 = predict_cv(m_rf2, train_dt, train_target, test_dt)\n",
    "\n",
    "# Ridge回帰\n",
    "m_ridge = model_ridge()\n",
    "pred_train_ridge, pred_test_ridge = predict_cv(m_ridge, train_dt, train_target, test_dt)\n",
    "\n",
    "# KNeighbors1 (forループによりハイパーパラメーターを調整されたモデル)\n",
    "m_knr1 = model_knr1()\n",
    "pred_train_knr1, pred_test_knr1 = predict_cv(m_knr1, train_dt, train_target, test_dt)\n",
    "\n",
    "# KNeighbors2\n",
    "m_knr2 = model_knr2()\n",
    "pred_train_knr2, pred_test_knr2 = predict_cv(m_knr2, train_dt, train_target, test_dt)\n",
    "\n"
   ]
  },
  {
   "cell_type": "markdown",
   "metadata": {},
   "source": [
    "### スタッキング2層目"
   ]
  },
  {
   "cell_type": "code",
   "execution_count": null,
   "metadata": {},
   "outputs": [],
   "source": [
    "# 1層目の予測結果を元にデータフレームを作成\n",
    "train_2 = pd.DataFrame({\"catboost1\" : pred_train_cat1,\n",
    "                        \"catboost2\" : pred_train_cat2,\n",
    "                        \"xgboost1\" : pred_train_xgb1,\n",
    "                        \"xgboost2\" : pred_train_xgb2,\n",
    "                        \"LightGBM1\" : pred_train_lgbm1,\n",
    "                        \"LightGBM2\" : pred_train_lgbm2,\n",
    "                        \"LightGBM3\" : pred_train_lgbm3,\n",
    "                        \"RandomForest1\" : pred_train_rf1,\n",
    "                        \"RandomForest2\" : pred_train_rf2,\n",
    "                        \"Ridge\" : pred_train_ridge,\n",
    "                        \"knr1\" : pred_train_knr1,\n",
    "                        \"knr2\" : pred_train_knr2})\n",
    "\n",
    "\n",
    "test_2 = pd.DataFrame({\"catboost1\" : pred_test_cat1,\n",
    "                       \"catboost2\" : pred_test_cat2,\n",
    "                       \"xgboost1\" : pred_test_xgb1,\n",
    "                       \"xgboost2\" : pred_test_xgb2,\n",
    "                       \"LightGBM1\" : pred_test_lgbm1,\n",
    "                       \"LightGBM2\" : pred_test_lgbm2,\n",
    "                       \"LightGBM3\" : pred_test_lgbm3,\n",
    "                       \"RandomForest1\" : pred_test_rf1,\n",
    "                       \"RandomForest2\" : pred_test_rf2,\n",
    "                       \"Ridge\" : pred_test_ridge,\n",
    "                       \"knr1\" : pred_test_knr1,\n",
    "                       \"knr2\" : pred_test_knr2})"
   ]
  },
  {
   "cell_type": "code",
   "execution_count": null,
   "metadata": {},
   "outputs": [],
   "source": [
    "# 予測結果\n",
    "m_lr = model_lr()\n",
    "pre_train_2_lr, pred_test_2_lr = predict_cv(m_lr, train_2, train_target, test_2)"
   ]
  },
  {
   "cell_type": "code",
   "execution_count": null,
   "metadata": {},
   "outputs": [],
   "source": [
    "# 指定の形式のデータテーブルへ変換\n",
    "df = pd.concat([test_id, pd.DataFrame(pred_test_2_lr)], axis = 1)\n",
    "df = df.rename(columns = {0:\"target\"})\n",
    "df = df.set_index(\"id\")\n",
    "df.to_csv(\"my_submission.csv\", header = True)"
   ]
  }
 ],
 "metadata": {
  "kernelspec": {
   "display_name": "Python 3",
   "language": "python",
   "name": "python3"
  },
  "language_info": {
   "codemirror_mode": {
    "name": "ipython",
    "version": 3
   },
   "file_extension": ".py",
   "mimetype": "text/x-python",
   "name": "python",
   "nbconvert_exporter": "python",
   "pygments_lexer": "ipython3",
   "version": "3.7.6"
  }
 },
 "nbformat": 4,
 "nbformat_minor": 4
}
